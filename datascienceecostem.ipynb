{
 "cells": [
  {
   "cell_type": "markdown",
   "id": "4c0abd91-8cfb-4b72-aa59-726bca05e256",
   "metadata": {},
   "source": [
    "# Data Science Tools and Ecosystem"
   ]
  },
  {
   "cell_type": "markdown",
   "id": "79ce1d2f-f64d-48b6-a4f3-6d2c70f4c252",
   "metadata": {},
   "source": [
    "In this notebook, Data Science Tools and Ecosystem are summarized."
   ]
  },
  {
   "cell_type": "markdown",
   "id": "05d69fe5-6f41-4fc6-9a16-232827f9edfd",
   "metadata": {},
   "source": [
    "## Some of the popular languages that Data Scientists use are:\n",
    "1. Python          \n",
    "2. SQL            \n",
    "3. R                \n",
    "4. Java                   "
   ]
  },
  {
   "cell_type": "markdown",
   "id": "0edf5553-f59a-4c47-bc78-00ef71853117",
   "metadata": {},
   "source": [
    "**Objectives:**    \n",
    "+ R\n",
    "+ SQL\n",
    "+ Java\n",
    "+ Scala\n"
   ]
  },
  {
   "cell_type": "markdown",
   "id": "10d8ff99-eeea-4614-b9d9-a2fede8df9db",
   "metadata": {},
   "source": [
    "## Some of the commonly used libraries used by Data Scientists include:\n",
    "1. Matplotlib          \n",
    "2. Numpy             \n",
    "3. Tensorflow           \n",
    "4. Scipy"
   ]
  },
  {
   "cell_type": "markdown",
   "id": "50cac1ba-89e4-4068-b96d-73e4215136fa",
   "metadata": {},
   "source": [
    "| Data Science Tools              |\n",
    "| -----------------            |     \n",
    "| Jupyter Notebook         |\n",
    "| RStudio                |\n",
    "| Visual Studio Code           |"
   ]
  },
  {
   "cell_type": "markdown",
   "id": "a4c622d4-a2d0-4756-b54a-22c7fc2f2e4d",
   "metadata": {},
   "source": [
    "### Below are a few examples of evaluating arithmetic expressions in Python.\n",
    "eg.  \n",
    "1. 2+4 = 6\n",
    "2. 3*3 = 9\n",
    "3. 60/5 = 12"
   ]
  },
  {
   "cell_type": "code",
   "execution_count": 18,
   "id": "2e5855f4-a928-43a2-83b6-51a7751b63b5",
   "metadata": {},
   "outputs": [
    {
     "data": {
      "text/plain": [
       "17"
      ]
     },
     "execution_count": 18,
     "metadata": {},
     "output_type": "execute_result"
    }
   ],
   "source": [
    "# This a simple arithmetic expression to mutiply then add integers\n",
    "(3*4)+5"
   ]
  },
  {
   "cell_type": "code",
   "execution_count": 2,
   "id": "90a3f2b3-822f-4a2a-9a9e-cbf2167a1bd4",
   "metadata": {},
   "outputs": [
    {
     "data": {
      "text/plain": [
       "3.3333333333333335"
      ]
     },
     "execution_count": 2,
     "metadata": {},
     "output_type": "execute_result"
    }
   ],
   "source": [
    "#  This will convert 200 minutes to hours by diving by 60.\n",
    "200/60"
   ]
  },
  {
   "cell_type": "markdown",
   "id": "9a73e4c4-c995-4686-8dff-19f1cf8fcbc6",
   "metadata": {},
   "source": [
    "__Objectives__                 \n",
    "+ list of popular  languages in Data Scientists          \n",
    "+ list of popular libraries in Data Scientists                \n",
    "+ table in Data Science tools                         "
   ]
  },
  {
   "cell_type": "markdown",
   "id": "10ba6abd-7732-4e85-a7cd-cace666d5a12",
   "metadata": {},
   "source": [
    "## Author\n",
    "patum kaushalya"
   ]
  },
  {
   "cell_type": "code",
   "execution_count": null,
   "id": "47e5b9dc-9636-4ec6-b73a-f71e40d67ccf",
   "metadata": {},
   "outputs": [],
   "source": []
  }
 ],
 "metadata": {
  "kernelspec": {
   "display_name": "Python 3 (ipykernel)",
   "language": "python",
   "name": "python3"
  },
  "language_info": {
   "codemirror_mode": {
    "name": "ipython",
    "version": 3
   },
   "file_extension": ".py",
   "mimetype": "text/x-python",
   "name": "python",
   "nbconvert_exporter": "python",
   "pygments_lexer": "ipython3",
   "version": "3.11.7"
  }
 },
 "nbformat": 4,
 "nbformat_minor": 5
}
